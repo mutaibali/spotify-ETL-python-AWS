{
 "cells": [
  {
   "cell_type": "code",
   "execution_count": null,
   "id": "8e66b569-3654-4d54-8a43-9eba6b19ad38",
   "metadata": {},
   "outputs": [],
   "source": [
    "import json\n",
    "import os\n",
    "import spotipy\n",
    "from spotipy.oauth2 import SpotifyClientCredentials\n",
    "import boto3\n",
    "from datetime import datetime\n",
    "\n",
    "def lambda_handler(event, context):\n",
    "    client_id = os.environ.get('client_id')\n",
    "    client_secret = os.environ.get('client_secret')\n",
    "    client_credentials_manager = SpotifyClientCredentials(client_id = client_id, client_secret = client_secret)\n",
    "    sp = spotipy.Spotify(client_credentials_manager = client_credentials_manager) \n",
    "    playlists = sp.user_playlists('spotify')\n",
    "\n",
    "    playlist_link = \"https://open.spotify.com/playlist/4yNfFAuHcSgzbcSm6q5QDu\"\n",
    "    playlist_uri = playlist_link.split(\"/\")[-1]\n",
    "    data = sp.playlist_tracks(playlist_uri)\n",
    "\n",
    "    client = boto3.client('s3')\n",
    "    filename = \"spotify_raw_\" + str(datetime.now()) + \".json\"\n",
    "\n",
    "    client.put_object(\n",
    "        Bucket = \"spotify-etl-python-ali\", \n",
    "        Key = \"raw_data/to_processed/\" + filename,\n",
    "        Body = json.dumps(data)\n",
    "    )"
   ]
  }
 ],
 "metadata": {
  "kernelspec": {
   "display_name": "Python 3 (ipykernel)",
   "language": "python",
   "name": "python3"
  },
  "language_info": {
   "codemirror_mode": {
    "name": "ipython",
    "version": 3
   },
   "file_extension": ".py",
   "mimetype": "text/x-python",
   "name": "python",
   "nbconvert_exporter": "python",
   "pygments_lexer": "ipython3",
   "version": "3.13.1"
  }
 },
 "nbformat": 4,
 "nbformat_minor": 5
}
